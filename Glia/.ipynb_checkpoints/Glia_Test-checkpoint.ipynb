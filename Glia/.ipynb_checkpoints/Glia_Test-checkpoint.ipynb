{
 "cells": [
  {
   "cell_type": "code",
   "execution_count": 1,
   "metadata": {
    "collapsed": false,
    "scrolled": true
   },
   "outputs": [
    {
     "name": "stdout",
     "output_type": "stream",
     "text": [
      "The largest prime factor of 13195 is 29\n",
      "The largest prime factor of 600851475143 is 6857\n"
     ]
    },
    {
     "data": {
      "text/plain": [
       "6857"
      ]
     },
     "execution_count": 1,
     "metadata": {},
     "output_type": "execute_result"
    }
   ],
   "source": [
    "def Largest_prime(N):\n",
    "    Candidates = []  #Find all a, b such that a*b = N\n",
    "    #Search start from the sqrt of N and downward\n",
    "    for p in reversed(range(1,int((N)**0.5)+1)):  \n",
    "        if (N/p)==int(N/p):\n",
    "            Candidates.append(int(p))     #Store factors as candidates\n",
    "            Candidates.append(int(N/p))\n",
    "            \n",
    "    for cand in sorted(Candidates,reverse=True): #find the largest prime candidates\n",
    "        if is_prime(cand):\n",
    "            print('The largest prime factor of %d is %d'%(N,cand))\n",
    "            return cand\n",
    "            \n",
    "prime_cache={}\n",
    "def is_prime(N):\n",
    "    if N in prime_cache:\n",
    "        return prime_cache[N]\n",
    "    \n",
    "    for n in reversed(range(1,int((N)**0.5)+1)): #Search start from the sqrt of N and downward\n",
    "        if (N/n)==int(N/n) and n!= 1:\n",
    "            prime_cache[N] = False\n",
    "    if N not in prime_cache:\n",
    "        prime_cache[N] = True\n",
    "        \n",
    "    return prime_cache[N]\n",
    "\n",
    "Largest_prime(13195)\n",
    "Largest_prime(600851475143)"
   ]
  },
  {
   "cell_type": "code",
   "execution_count": 2,
   "metadata": {
    "collapsed": false
   },
   "outputs": [
    {
     "name": "stdout",
     "output_type": "stream",
     "text": [
      "The sum of all the multiples of [3, 5] below 1000 is 233168\n"
     ]
    },
    {
     "data": {
      "text/plain": [
       "233168"
      ]
     },
     "execution_count": 2,
     "metadata": {},
     "output_type": "execute_result"
    }
   ],
   "source": [
    "def multiples_below(N, l = [3,5]):\n",
    "    Ans = set()\n",
    "    for factor in l:\n",
    "        for i in range(int(N/factor)):\n",
    "            Ans.add(factor*(i+1))  #Use set add can avoid repetitions\n",
    "    if N in Ans:\n",
    "        Ans.remove(N) #if accidentally add N, remove it from the set\n",
    "    answer = sum(Ans)\n",
    "    print('The sum of all the multiples of',l,'below %d is %d'%(N,answer))\n",
    "    return answer\n",
    "\n",
    "multiples_below(1000)"
   ]
  },
  {
   "cell_type": "code",
   "execution_count": 1,
   "metadata": {
    "collapsed": false,
    "scrolled": true
   },
   "outputs": [
    {
     "name": "stdout",
     "output_type": "stream",
     "text": [
      "Combinations (40,30): 847660528\n",
      "Combinations (990,33): 48203100894442103934748925233710467221987306962280314689084340\n"
     ]
    }
   ],
   "source": [
    "def Combinations(N,R):\n",
    "    if N <= 0 or R <= 0 or type(N*R)!=int :\n",
    "        print('Please give strictly positive integers.')\n",
    "        return\n",
    "    Cache = {}  #Bottom-up method to avoid 999 limitation of python recursions\n",
    "    for n in range(1,N+1):\n",
    "        for r in range(1,min(n,R)+1):\n",
    "            if r == 1:\n",
    "                Cache[(n,r)] = n #Base case 1\n",
    "            elif n == r:\n",
    "                Cache[(n,r)] = 1 #Base case 2\n",
    "            else:\n",
    "                Cache[(n,r)] = Cache[(n-1,r-1)]+Cache[(n-1,r)]  #The formula\n",
    "    return Cache[(N,R)]  #Store N*R numbers is easy for python\n",
    "\n",
    "print('Combinations (40,30): %d'%Combinations(40,30))\n",
    "print('Combinations (990,33): %d'%Combinations(990,33))"
   ]
  },
  {
   "cell_type": "code",
   "execution_count": 4,
   "metadata": {
    "collapsed": false,
    "scrolled": true
   },
   "outputs": [
    {
     "name": "stdout",
     "output_type": "stream",
     "text": [
      "343.34999999999917\n"
     ]
    }
   ],
   "source": [
    "def anonymous(x):\n",
    "    return x**2 + 1\n",
    "\n",
    "\n",
    "def integrate(fun, start, end):\n",
    "    step = 0.1\n",
    "    intercept = start\n",
    "    area = 0\n",
    "\n",
    "    while intercept < end:\n",
    "        intercept += step\n",
    "        if intercept > end+step/2: continue #Prevent the inprecise number at the end\n",
    "        area += step*(fun(intercept-step)+fun(intercept))/2\n",
    "    return area\n",
    "\n",
    "print(integrate(anonymous, 0, 10))"
   ]
  },
  {
   "cell_type": "code",
   "execution_count": null,
   "metadata": {
    "collapsed": true
   },
   "outputs": [],
   "source": []
  }
 ],
 "metadata": {
  "kernelspec": {
   "display_name": "Python 3",
   "language": "python",
   "name": "python3"
  },
  "language_info": {
   "codemirror_mode": {
    "name": "ipython",
    "version": 3
   },
   "file_extension": ".py",
   "mimetype": "text/x-python",
   "name": "python",
   "nbconvert_exporter": "python",
   "pygments_lexer": "ipython3",
   "version": "3.4.3"
  }
 },
 "nbformat": 4,
 "nbformat_minor": 0
}
